{
 "cells": [
  {
   "cell_type": "code",
   "execution_count": 3,
   "id": "e0a94ead-57b5-4af5-adab-29711d89bf51",
   "metadata": {},
   "outputs": [],
   "source": [
    "                # QUESTION 1\n",
    "                \n",
    "# Q1, Create a vehicle class with an init method having instance variables as name_of_vehicle, max_speed and average_of_vehicle.\n",
    " "
   ]
  },
  {
   "cell_type": "code",
   "execution_count": 23,
   "id": "fbe853ae-62b3-46a5-9166-5c007c336387",
   "metadata": {},
   "outputs": [],
   "source": [
    "class vehicle:\n",
    "    def __init__(self, name_of_vehicle, max_speed, average_of_vehicle):\n",
    "        self.name_of_vehicle =name_of_vehicle\n",
    "        self.max_speed = max_speed\n",
    "        self.average_of_vehicle = average_of_vehicle"
   ]
  },
  {
   "cell_type": "code",
   "execution_count": 22,
   "id": "be4b5d01-3154-491e-bd8a-b07b9d95c8d0",
   "metadata": {},
   "outputs": [],
   "source": [
    "v1=vehicle(\"car1\",67,3434343)"
   ]
  },
  {
   "cell_type": "code",
   "execution_count": 16,
   "id": "9125c7b1-a8e6-43c4-9028-3ed55a74c962",
   "metadata": {},
   "outputs": [
    {
     "data": {
      "text/plain": [
       "3434343"
      ]
     },
     "execution_count": 25,
     "metadata": {},
     "output_type": "execute_result"
    }
   ],
   "source": [
    "v1.average_of_vehicle"
   ]
  },
  {
   "cell_type": "code",
   "execution_count": 17,
   "id": "4ee1a331-c34c-465c-be15-f2f1f992379f",
   "metadata": {},
   "outputs": [],
   "source": [
    "        #QUESTION 2\n",
    "    \n",
    "# Q2.  Create a child class car from the vehicle class created in Que 1, which will inherit the vehicle class. \n",
    "#           Create a method named seating_capacity which takes capacity as an argument and returns the name of \n",
    "#        the vehicle and its seating capacitie"
   ]
  },
  {
   "cell_type": "code",
   "execution_count": 34,
   "id": "ad6482a9-9ae0-4c2c-8783-88949b57aba3",
   "metadata": {},
   "outputs": [],
   "source": [
    "class car(vehicle):\n",
    "    def seating_capacity(self,capacity):\n",
    "        return self.name_of_vehicle,capacity"
   ]
  },
  {
   "cell_type": "code",
   "execution_count": 35,
   "id": "a78a4263-103d-4ee5-ab59-8351bd6cdf70",
   "metadata": {},
   "outputs": [],
   "source": [
    "c1=car(\"Toyoyt\",87,99999)"
   ]
  },
  {
   "cell_type": "code",
   "execution_count": 36,
   "id": "63edfde4-78d5-44bb-9569-c06e91878fcb",
   "metadata": {},
   "outputs": [
    {
     "data": {
      "text/plain": [
       "('Toyoyt', 5)"
      ]
     },
     "execution_count": 36,
     "metadata": {},
     "output_type": "execute_result"
    }
   ],
   "source": [
    "c1.seating_capacity(5)"
   ]
  },
  {
   "cell_type": "code",
   "execution_count": 37,
   "id": "faf2716d-80d0-491d-ac09-21ac2471a6e8",
   "metadata": {},
   "outputs": [],
   "source": [
    "      #QUESTION 3\n",
    "\n",
    "# Q3. What is multiple inheritance? Write a python code to demonstrate multiple inheritance."
   ]
  },
  {
   "cell_type": "code",
   "execution_count": 38,
   "id": "ba4ff59f-e072-4798-a7e4-80bdb9b66393",
   "metadata": {},
   "outputs": [],
   "source": [
    "#multiple inheritance is a technique where child class inherit the property of more than one parents class"
   ]
  },
  {
   "cell_type": "code",
   "execution_count": 39,
   "id": "8fc535da-4fc6-49fd-ada4-defc232d1999",
   "metadata": {},
   "outputs": [],
   "source": [
    "class car1:\n",
    "    def info(self,name):\n",
    "        return name"
   ]
  },
  {
   "cell_type": "code",
   "execution_count": 40,
   "id": "b9be023d-0ef6-4bcd-bc3a-9d1123e514ec",
   "metadata": {},
   "outputs": [],
   "source": [
    "class car2:\n",
    "    def model(self,year):\n",
    "        return year"
   ]
  },
  {
   "cell_type": "code",
   "execution_count": 41,
   "id": "e2c8aad5-2573-4efb-9b19-419988ed62ed",
   "metadata": {},
   "outputs": [],
   "source": [
    "class car3(car1,car2):\n",
    "    pass"
   ]
  },
  {
   "cell_type": "code",
   "execution_count": 42,
   "id": "0fc159d7-cf3d-47f3-aa4b-59c76396147b",
   "metadata": {},
   "outputs": [],
   "source": [
    "d=car3()"
   ]
  },
  {
   "cell_type": "code",
   "execution_count": 43,
   "id": "89062b2f-b67b-4874-89b1-8fbcda22f905",
   "metadata": {},
   "outputs": [
    {
     "data": {
      "text/plain": [
       "'toyota'"
      ]
     },
     "execution_count": 43,
     "metadata": {},
     "output_type": "execute_result"
    }
   ],
   "source": [
    "d.info(\"toyota\")"
   ]
  },
  {
   "cell_type": "code",
   "execution_count": 44,
   "id": "f426c5e6-4316-4d4a-875b-3c4ddff278f6",
   "metadata": {},
   "outputs": [],
   "source": [
    "    #QUESTION 4\n",
    "    \n",
    "# Q4. What are getter and setter in python? Create a class and create a getter and a setter method in this class \n",
    "   "
   ]
  },
  {
   "cell_type": "code",
   "execution_count": 45,
   "id": "304bb426-96d9-4060-b135-e89e5609b52c",
   "metadata": {},
   "outputs": [],
   "source": [
    "#getter and setter are property decorator by which we can acess ,change and delete the private,protected variable of the class"
   ]
  },
  {
   "cell_type": "code",
   "execution_count": 8,
   "id": "fd43594c-26d7-46c9-8c96-cc3ecc267260",
   "metadata": {},
   "outputs": [],
   "source": [
    "class school:\n",
    "    def __init__(self,name,location):\n",
    "        self.__name=name\n",
    "        self.location=location\n",
    "        \n",
    "    @property\n",
    "    def school_name(self):\n",
    "        return self.__name\n",
    "    @school_name.setter\n",
    "    def new_name(self,newname):\n",
    "        if len(newname)<=3:\n",
    "            pass\n",
    "        else:\n",
    "            self.__name=newname\n",
    "    "
   ]
  },
  {
   "cell_type": "code",
   "execution_count": 9,
   "id": "4b191d3a-7e0c-48bf-bae6-28608338ea1a",
   "metadata": {},
   "outputs": [],
   "source": [
    "j=school(\"SIC\",\"kanpur\")"
   ]
  },
  {
   "cell_type": "code",
   "execution_count": 10,
   "id": "38df913b-485a-4716-9e47-91878393c3f2",
   "metadata": {},
   "outputs": [
    {
     "data": {
      "text/plain": [
       "'SIC'"
      ]
     },
     "execution_count": 10,
     "metadata": {},
     "output_type": "execute_result"
    }
   ],
   "source": [
    "j.school_name"
   ]
  },
  {
   "cell_type": "code",
   "execution_count": 11,
   "id": "dd61fe02-77be-4239-a109-bf26c8f405fe",
   "metadata": {},
   "outputs": [],
   "source": [
    "j.new_name=\"adharshila\""
   ]
  },
  {
   "cell_type": "code",
   "execution_count": 12,
   "id": "9dbf6dba-5843-46b4-bce6-8763c1335474",
   "metadata": {},
   "outputs": [
    {
     "data": {
      "text/plain": [
       "'adharshila'"
      ]
     },
     "execution_count": 12,
     "metadata": {},
     "output_type": "execute_result"
    }
   ],
   "source": [
    "j.school_name"
   ]
  },
  {
   "cell_type": "code",
   "execution_count": 14,
   "id": "bacb3059-5883-43a0-9620-ed80e69c91c1",
   "metadata": {},
   "outputs": [],
   "source": [
    "             #QUESTION 5"
   ]
  },
  {
   "cell_type": "code",
   "execution_count": null,
   "id": "ba49cea1-27d2-43e2-a182-afb5ffbbba55",
   "metadata": {},
   "outputs": [],
   "source": [
    "#Q5.What is method overriding in python? Write a python code to demonstrate method overriding."
   ]
  },
  {
   "cell_type": "code",
   "execution_count": 15,
   "id": "da5a79d3-57e6-4291-97a8-3ac9f08d8cb6",
   "metadata": {},
   "outputs": [],
   "source": [
    "#Method overriding is a technique by which we can redefine the parents class method in child class\n",
    "\n",
    "class school1:\n",
    "    def __init__(self,name,location):\n",
    "        self.name=name\n",
    "        self.location=location\n",
    "    def details(self):\n",
    "        print(f\"this is {self.name}\")"
   ]
  },
  {
   "cell_type": "code",
   "execution_count": 25,
   "id": "aabe2c14-e0c1-4e67-9f06-220d366bd937",
   "metadata": {},
   "outputs": [],
   "source": [
    "class school2:\n",
    "    def __init__(self,name,location):\n",
    "        self.name=name\n",
    "        self.location=location\n",
    "    def details(self):\n",
    "        print(f\"this is {self.location}\")"
   ]
  },
  {
   "cell_type": "code",
   "execution_count": 26,
   "id": "d4ed2b60-6f88-49bc-b653-a62c82adc57a",
   "metadata": {},
   "outputs": [],
   "source": [
    "j=school1(\"SIC\",\"keshavNagar\")"
   ]
  },
  {
   "cell_type": "code",
   "execution_count": 27,
   "id": "5eced0de-0f08-4ce3-a0dc-81cec08e5280",
   "metadata": {},
   "outputs": [
    {
     "name": "stdout",
     "output_type": "stream",
     "text": [
      "this is SIC\n"
     ]
    }
   ],
   "source": [
    "j.details()"
   ]
  },
  {
   "cell_type": "code",
   "execution_count": 28,
   "id": "6d5ca489-b172-495b-8887-770b73ef517d",
   "metadata": {},
   "outputs": [],
   "source": [
    "j=school2(\"SIC\",\"keshavNagar\")"
   ]
  },
  {
   "cell_type": "code",
   "execution_count": 29,
   "id": "83c3b9c7-0d41-4e68-83a1-88f6d81c2795",
   "metadata": {},
   "outputs": [
    {
     "name": "stdout",
     "output_type": "stream",
     "text": [
      "this is keshavNagar\n"
     ]
    }
   ],
   "source": [
    "j.details()"
   ]
  },
  {
   "cell_type": "code",
   "execution_count": null,
   "id": "999f1871-b1c2-4f1d-a4d0-272a260e2698",
   "metadata": {},
   "outputs": [],
   "source": []
  }
 ],
 "metadata": {
  "kernelspec": {
   "display_name": "Python 3 (ipykernel)",
   "language": "python",
   "name": "python3"
  },
  "language_info": {
   "codemirror_mode": {
    "name": "ipython",
    "version": 3
   },
   "file_extension": ".py",
   "mimetype": "text/x-python",
   "name": "python",
   "nbconvert_exporter": "python",
   "pygments_lexer": "ipython3",
   "version": "3.10.6"
  }
 },
 "nbformat": 4,
 "nbformat_minor": 5
}
